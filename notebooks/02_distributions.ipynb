{
 "cells": [
  {
   "cell_type": "code",
   "execution_count": null,
   "id": "023d943a-9864-4fce-8c9c-e6e5c3ba1033",
   "metadata": {},
   "outputs": [],
   "source": [
    "import pandas as pd\n",
    "import matplotlib.pyplot as plt\n",
    "import seaborn as sns"
   ]
  },
  {
   "cell_type": "code",
   "execution_count": null,
   "id": "65525075-ea41-4d64-a2b2-d0d139af1391",
   "metadata": {},
   "outputs": [],
   "source": [
    "df = pd.read_csv('C:\\AI\\Projetcs\\ML\\students_score\\data\\cleaned_data.csv')"
   ]
  },
  {
   "cell_type": "code",
   "execution_count": null,
   "id": "1bd860a2-8a1a-4a65-8624-d796787a4ba5",
   "metadata": {},
   "outputs": [],
   "source": [
    "plt.style.use('dark_background')\n",
    "custom_palette = ['#FF00FF', '#00FFFF']\n",
    "\n",
    "plt.figure(dpi=150, figsize=(8, 5))\n",
    "sns.countplot(data=df, x='Grade', hue='Gender', palette=custom_palette)\n",
    "\n",
    "plt.title('Grade Distribution by Gender', fontsize=14, color='#00FFFF')\n",
    "plt.xlabel('Grade', fontsize=12, color='white')\n",
    "plt.ylabel('Count', fontsize=12, color='white')\n",
    "plt.legend(title='Gender', title_fontsize='10', loc='lower right', facecolor='black', edgecolor='white')\n",
    "\n",
    "plt.savefig('C:/AI/Projetcs/ML/students_score/images/Grade_Distribution_by_Gender.png', facecolor='black',\n",
    "            dpi=300, bbox_inches='tight', transparent=True)\n",
    "plt.show()"
   ]
  },
  {
   "cell_type": "code",
   "execution_count": null,
   "id": "36990357-3527-4bef-8f30-3f3ef9b54b4c",
   "metadata": {},
   "outputs": [],
   "source": [
    "plt.style.use('dark_background')\n",
    "\n",
    "box_color = '#4deeea'\n",
    "edge_color = '#001eff'\n",
    "\n",
    "plt.figure(dpi=150, figsize=(9, 5))\n",
    "sns.boxplot(data=df, x='Department', y='Total_Score', color=box_color,\n",
    "            linewidth=2, fliersize=3, boxprops=dict(edgecolor=edge_color),\n",
    "            whiskerprops=dict(color=edge_color), capprops=dict(color=edge_color),\n",
    "            medianprops=dict(color='white'), flierprops=dict(markerfacecolor=edge_color, marker='o'))\n",
    "\n",
    "plt.title('Performance Across Departments', fontsize=14, color=box_color)\n",
    "plt.xlabel('Department', fontsize=12, color='white')\n",
    "plt.ylabel('Total Score', fontsize=12, color='white')\n",
    "\n",
    "plt.savefig('C:/AI/Projetcs/ML/students_score/images/Performance_Across_Departments.png', facecolor='black', \n",
    "            dpi=300, bbox_inches='tight', transparent=True)\n",
    "plt.show()"
   ]
  },
  {
   "cell_type": "code",
   "execution_count": null,
   "id": "8ac2546c-592c-48a1-b240-ae577d0509fe",
   "metadata": {},
   "outputs": [],
   "source": [
    "plt.style.use('dark_background')\n",
    "plt.figure(figsize=(15,7), dpi=150)\n",
    "numeric_cols = df.select_dtypes(include=['float64', 'int64']).columns\n",
    "sns.heatmap(df[numeric_cols].corr(), annot=True, cmap='coolwarm')\n",
    "plt.title('Correlation Heatmap')\n",
    "plt.savefig('C:/AI/Projetcs/ML/students_score/images/Correlation_Heatmap.png', facecolor='black', \n",
    "            dpi=300, bbox_inches='tight', transparent=True)\n",
    "plt.show()"
   ]
  },
  {
   "cell_type": "code",
   "execution_count": null,
   "id": "4863e401-df00-4797-8031-58fae33c1195",
   "metadata": {},
   "outputs": [],
   "source": []
  }
 ],
 "metadata": {
  "kernelspec": {
   "display_name": "Python 3 (ipykernel)",
   "language": "python",
   "name": "python3"
  },
  "language_info": {
   "codemirror_mode": {
    "name": "ipython",
    "version": 3
   },
   "file_extension": ".py",
   "mimetype": "text/x-python",
   "name": "python",
   "nbconvert_exporter": "python",
   "pygments_lexer": "ipython3",
   "version": "3.12.3"
  }
 },
 "nbformat": 4,
 "nbformat_minor": 5
}
