{
 "cells": [
  {
   "cell_type": "code",
   "execution_count": null,
   "id": "1880683d-6429-447d-bdd0-82e1c36ef59d",
   "metadata": {},
   "outputs": [],
   "source": [
    "import pandas as pd\n",
    "import datacmp"
   ]
  },
  {
   "cell_type": "code",
   "execution_count": null,
   "id": "eee75951-2301-4a82-8c17-deb3db9e339f",
   "metadata": {},
   "outputs": [],
   "source": [
    "df = pd.read_csv('data/Students_Grading_Dataset.csv')\n",
    "df.head()"
   ]
  },
  {
   "cell_type": "code",
   "execution_count": null,
   "id": "6badfcea-4d54-4f8c-a9dd-a0c521389857",
   "metadata": {},
   "outputs": [],
   "source": [
    "print(datacmp.get_detailed(df))"
   ]
  },
  {
   "cell_type": "code",
   "execution_count": null,
   "id": "c23e2576-5a08-47e9-ab53-e4d1b2a4a5f5",
   "metadata": {},
   "outputs": [],
   "source": [
    "df['Missing_Parent_Ed'] = df['Parent_Education_Level'].isna()\n",
    "df.groupby('Missing_Parent_Ed')['Total_Score'].mean()"
   ]
  },
  {
   "cell_type": "code",
   "execution_count": null,
   "id": "6dd5f2c1-a66b-494d-b90b-3923c01e30b6",
   "metadata": {},
   "outputs": [],
   "source": [
    "df['Parent_Education_Level'].fillna('Missing', inplace=True)"
   ]
  },
  {
   "cell_type": "code",
   "execution_count": null,
   "id": "d16a630f-9ab5-4f07-9b00-e82aa9aac433",
   "metadata": {},
   "outputs": [],
   "source": [
    "df.describe()"
   ]
  },
  {
   "cell_type": "code",
   "execution_count": null,
   "id": "4fba290f-2772-4737-a16d-2e3c85688963",
   "metadata": {},
   "outputs": [],
   "source": [
    "df.columns"
   ]
  },
  {
   "cell_type": "code",
   "execution_count": null,
   "id": "b4cce754-4bba-49a6-ac04-391de8990568",
   "metadata": {},
   "outputs": [],
   "source": [
    "df = df.drop(['Student_ID', 'First_Name', 'Last_Name', 'Email'], axis=1)"
   ]
  },
  {
   "cell_type": "code",
   "execution_count": null,
   "id": "ad19150e-0fdb-4aad-a428-d3e7f9b547aa",
   "metadata": {},
   "outputs": [],
   "source": [
    "df = df.drop_duplicates()"
   ]
  },
  {
   "cell_type": "code",
   "execution_count": null,
   "id": "359f3f56-74f9-4279-919a-3470adbe83dc",
   "metadata": {},
   "outputs": [],
   "source": [
    "print(datacmp.get_detailed(df))"
   ]
  },
  {
   "cell_type": "code",
   "execution_count": null,
   "id": "c8daf01f-1ef0-45dc-8c2b-ebefeb7a595d",
   "metadata": {},
   "outputs": [],
   "source": [
    "df.to_csv(\"data/cleaned_data.csv\", index=False)"
   ]
  },
  {
   "cell_type": "code",
   "execution_count": null,
   "id": "d1c80a5d-70e2-44f1-b490-9d7a127c8904",
   "metadata": {},
   "outputs": [],
   "source": []
  }
 ],
 "metadata": {
  "kernelspec": {
   "display_name": "Python 3 (ipykernel)",
   "language": "python",
   "name": "python3"
  },
  "language_info": {
   "codemirror_mode": {
    "name": "ipython",
    "version": 3
   },
   "file_extension": ".py",
   "mimetype": "text/x-python",
   "name": "python",
   "nbconvert_exporter": "python",
   "pygments_lexer": "ipython3",
   "version": "3.12.3"
  }
 },
 "nbformat": 4,
 "nbformat_minor": 5
}
